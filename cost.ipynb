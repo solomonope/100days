{
  "nbformat": 4,
  "nbformat_minor": 0,
  "metadata": {
    "colab": {
      "name": "cost.ipynb",
      "version": "0.3.2",
      "provenance": [],
      "include_colab_link": true
    },
    "kernelspec": {
      "name": "python3",
      "display_name": "Python 3"
    }
  },
  "cells": [
    {
      "cell_type": "markdown",
      "metadata": {
        "id": "view-in-github",
        "colab_type": "text"
      },
      "source": [
        "<a href=\"https://colab.research.google.com/github/solomonope/100days/blob/master/cost.ipynb\" target=\"_parent\"><img src=\"https://colab.research.google.com/assets/colab-badge.svg\" alt=\"Open In Colab\"/></a>"
      ]
    },
    {
      "cell_type": "code",
      "metadata": {
        "id": "NrEz_oKrh4jo",
        "colab_type": "code",
        "colab": {}
      },
      "source": [
        "!pip install sklearn"
      ],
      "execution_count": 0,
      "outputs": []
    },
    {
      "cell_type": "code",
      "metadata": {
        "id": "grNTnq8Pg4bU",
        "colab_type": "code",
        "colab": {}
      },
      "source": [
        "import tensorflow as tf                                                   \n",
        "import numpy as np                                                        \n",
        "import matplotlib.pyplot as plt                                            \n",
        "\n",
        "learning_rate = 0.01                                                       \n",
        "training_epochs = 100                                                      \n",
        "\n",
        "x_train = np.linspace(-1, 1, 101)                                          \n",
        "y_train = 2 * x_train + np.random.randn(*x_train.shape) * 0.33             \n",
        "\n",
        "X = tf.placeholder(tf.float32)                                             \n",
        "Y = tf.placeholder(tf.float32) \n",
        "\n",
        "print(x_train.shape)\n",
        "print(y_train.shape)\n",
        "\n",
        "\n",
        "def model(X, w):                                                           \n",
        "    return tf.multiply(X, w)\n",
        "\n",
        "w = tf.Variable(0.0, name=\"weights\")                                       \n",
        "\n",
        "y_model = model(X, w)                                                      \n",
        "cost = tf.square(Y-y_model)                                                \n",
        "\n",
        "train_op = tf.train.GradientDescentOptimizer(learning_rate).minimize(cost) \n",
        "\n",
        "sess = tf.Session()                                                        \n",
        "init = tf.global_variables_initializer()                                   \n",
        "sess.run(init)                                                             \n",
        "\n",
        "for epoch in range(training_epochs):                                       \n",
        "  for (x, y) in zip(x_train, y_train):\n",
        "    print(type(x))\n",
        "    print(type(y))\n",
        "    cost_result, train_op_result=sess.run([cost,train_op], feed_dict={X: x, Y: y})\n",
        "\n",
        "w_val = sess.run(w)                                                        \n",
        "\n",
        "print(w_val)\n",
        "sess.close()                                                               "
      ],
      "execution_count": 0,
      "outputs": []
    },
    {
      "cell_type": "code",
      "metadata": {
        "id": "7Kyx-0I4mm82",
        "colab_type": "code",
        "colab": {}
      },
      "source": [
        ""
      ],
      "execution_count": 0,
      "outputs": []
    },
    {
      "cell_type": "markdown",
      "metadata": {
        "id": "F-KH-nLcmj3l",
        "colab_type": "text"
      },
      "source": [
        ""
      ]
    },
    {
      "cell_type": "code",
      "metadata": {
        "id": "XT1di32VmkcA",
        "colab_type": "code",
        "colab": {}
      },
      "source": [
        ""
      ],
      "execution_count": 0,
      "outputs": []
    },
    {
      "cell_type": "markdown",
      "metadata": {
        "id": "rFwhdTK8mkvB",
        "colab_type": "text"
      },
      "source": [
        ""
      ]
    },
    {
      "cell_type": "code",
      "metadata": {
        "id": "kPPFyekAmlnz",
        "colab_type": "code",
        "colab": {}
      },
      "source": [
        ""
      ],
      "execution_count": 0,
      "outputs": []
    }
  ]
}